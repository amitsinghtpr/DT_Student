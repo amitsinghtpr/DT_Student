{
 "cells": [
  {
   "cell_type": "code",
   "execution_count": null,
   "id": "8d9780be",
   "metadata": {},
   "outputs": [],
   "source": [
    "9988776604,student4@gmail.com,Digital Marketing,38000\n",
    "9988776605,student5@gmail.com,Data Science,133000\n",
    "9988776606,student6@gmail.com,Data Science,34000\n",
    "9988776607,student7@gmail.com,Data Science,33000\n",
    "9988776608,student8@gmail.com,Data Science,129000\n",
    "9988776609,student9@gmail.com,Data Science,40000\n",
    "9988776610,student10@gmail.com,Data Analytics,32500\n",
    "9988776611,student11@gmail.com,Data Science,41500\n",
    "9988776612,student12@gmail.com,Digital Marketing,31000\n",
    "9988776613,student13@gmail.com,Digital Marketing,23000\n",
    "9988776614,student14@gmail.com,Data Science,24000\n",
    "9988776615,student15@gmail.com,Data Science,23000\n",
    "9988776616,student16@gmail.com,Data Science,122500\n",
    "9988776617,student17@gmail.com,Data Science,29000\n",
    "9988776618,student18@gmail.com,Data Science,140000\n",
    "9988776619,student19@gmail.com,Data Analytics,32500\n",
    "9988776620,student20@gmail.com,Inv Banking,41500\n",
    "9988776621,student21@gmail.com,Data Science,131000\n",
    "9988776622,student22@gmail.com,Data Science,23000\n",
    "9988776623,student23@gmail.com,Data Science,24000"
   ]
  }
 ],
 "metadata": {
  "kernelspec": {
   "display_name": "Python 3 (ipykernel)",
   "language": "python",
   "name": "python3"
  },
  "language_info": {
   "codemirror_mode": {
    "name": "ipython",
    "version": 3
   },
   "file_extension": ".py",
   "mimetype": "text/x-python",
   "name": "python",
   "nbconvert_exporter": "python",
   "pygments_lexer": "ipython3",
   "version": "3.9.12"
  }
 },
 "nbformat": 4,
 "nbformat_minor": 5
}
